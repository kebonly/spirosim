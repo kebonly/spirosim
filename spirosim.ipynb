{
 "cells": [
  {
   "cell_type": "markdown",
   "id": "c1265e2f-e5eb-4ded-ab41-3398c75cb208",
   "metadata": {},
   "source": [
    "# spirosim\n",
    "The first step is to simulate the movement of the protist *Spirostomum ambiguum* (or *spiro* for short). The simulation will be carried out in a 2D environment, representing the shallow dish of water that the spiro would inhabit in a physical experiment."
   ]
  },
  {
   "cell_type": "markdown",
   "id": "bdd1f406-3310-44a2-a30c-6c471b95f5c4",
   "metadata": {},
   "source": [
    "# Setting up the simulation"
   ]
  },
  {
   "cell_type": "code",
   "execution_count": 2,
   "id": "7c40d5f0-ba24-48b5-b418-414128f09cf8",
   "metadata": {},
   "outputs": [
    {
     "name": "stdout",
     "output_type": "stream",
     "text": [
      "testing from simulation.py\n",
      "done outputing animation\n"
     ]
    }
   ],
   "source": [
    "import spirosim.simulation as sim\n",
    "import matplotlib.pyplot as plt\n",
    "\n",
    "sim.testing()\n",
    "\n",
    "# Defining the dimensions and particle table\n",
    "WIDTH, HEIGHT = 10, 10  # dimensions of the 2D space (a square)\n",
    "NUM_PARTICLES = 100  # number of particles\n",
    "TIME_STEP = 0.05  # time step for simulation\n",
    "NUM_STEPS = 250  # number of simulation steps\n",
    "INTERACTION_RADIUS = .5\n",
    "\n",
    "exp1 = sim.Simulation(WIDTH, HEIGHT)\n",
    "exp1.initialize_spiros(NUM_PARTICLES)\n",
    "\n",
    "# positions = exp1.run_simulation(100, .1, INTERACTION_RADIUS)\n",
    "exp1.animate(NUM_STEPS, TIME_STEP, INTERACTION_RADIUS)\n",
    "# exp1.plot_trajectory()"
   ]
  },
  {
   "cell_type": "code",
   "execution_count": null,
   "id": "497449c1-c21f-44b0-8e8a-103959e6d241",
   "metadata": {},
   "outputs": [],
   "source": []
  },
  {
   "cell_type": "code",
   "execution_count": null,
   "id": "05720220-f5dd-4624-a6ab-44af4a2b3975",
   "metadata": {},
   "outputs": [],
   "source": []
  }
 ],
 "metadata": {
  "kernelspec": {
   "display_name": "Python 3 (ipykernel)",
   "language": "python",
   "name": "python3"
  },
  "language_info": {
   "codemirror_mode": {
    "name": "ipython",
    "version": 3
   },
   "file_extension": ".py",
   "mimetype": "text/x-python",
   "name": "python",
   "nbconvert_exporter": "python",
   "pygments_lexer": "ipython3",
   "version": "3.12.3"
  }
 },
 "nbformat": 4,
 "nbformat_minor": 5
}
