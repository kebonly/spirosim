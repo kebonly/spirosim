{
 "cells": [
  {
   "cell_type": "markdown",
   "id": "621372f0-ada0-427e-9f96-1b342509a3ed",
   "metadata": {},
   "source": [
    "# Club Spiro\n",
    "This notebook explores the questions outlined by Manu and Kevin for Kevin's rotation project Fall 2024.\n",
    "1. Movement patterns of spiro\n",
    "2. Clustering of spiro\n",
    "3. Cluster formation when subject to shearing\n",
    "4. Turbulence experiments\n",
    "\n",
    "Much of this notebook is adapted from the Julia notebook developed by Tamas Nagy, Prakash Rotation @ MBL 2024.\n"
   ]
  },
  {
   "cell_type": "code",
   "execution_count": 4,
   "id": "c0fc6838-bcb9-4578-a5cf-2c9145920043",
   "metadata": {},
   "outputs": [],
   "source": [
    "from flowtrace_python.flowtrace import flowtrace"
   ]
  },
  {
   "cell_type": "code",
   "execution_count": null,
   "id": "f5daed80-97cd-4a34-80c9-8e8fa3ccb7f8",
   "metadata": {},
   "outputs": [],
   "source": []
  },
  {
   "cell_type": "code",
   "execution_count": null,
   "id": "437353b0-1ed8-45e6-ac6b-063f9efd0818",
   "metadata": {},
   "outputs": [],
   "source": []
  }
 ],
 "metadata": {
  "kernelspec": {
   "display_name": "Python 3 (ipykernel)",
   "language": "python",
   "name": "python3"
  },
  "language_info": {
   "codemirror_mode": {
    "name": "ipython",
    "version": 3
   },
   "file_extension": ".py",
   "mimetype": "text/x-python",
   "name": "python",
   "nbconvert_exporter": "python",
   "pygments_lexer": "ipython3",
   "version": "3.12.3"
  }
 },
 "nbformat": 4,
 "nbformat_minor": 5
}
